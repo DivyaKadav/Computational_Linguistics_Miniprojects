{
 "cells": [
  {
   "cell_type": "code",
   "execution_count": 5,
   "id": "2b2e27e5-de2a-404a-bb24-2434b2fbaf47",
   "metadata": {},
   "outputs": [],
   "source": [
    "animals = [\"dolphin\", \"elephant\", \"monkey\", \"lion\", \"lion\", \"elephant\", \"monkey\", \"dolphin\", \"elephant\"]\n",
    "\n",
    "def cleaner(argument):\n",
    "    argument = list(set(argument))\n",
    "    return argument[-1]"
   ]
  },
  {
   "cell_type": "code",
   "execution_count": 6,
   "id": "b00a1e22-f2b0-480f-a24d-e31ab67194f9",
   "metadata": {},
   "outputs": [
    {
     "data": {
      "text/plain": [
       "'elephant'"
      ]
     },
     "execution_count": 6,
     "metadata": {},
     "output_type": "execute_result"
    }
   ],
   "source": [
    "cleaner(animals)"
   ]
  },
  {
   "cell_type": "code",
   "execution_count": 7,
   "id": "5520c394-5a82-4d3a-81b8-8bd552531678",
   "metadata": {},
   "outputs": [
    {
     "name": "stdout",
     "output_type": "stream",
     "text": [
      "Dolphin appears 2; \n",
      "Elephant appears 3;\n",
      "Lion appears 2;\n",
      "Monkey appears 7\n"
     ]
    }
   ],
   "source": [
    "animals = [\"dolphin\", \"elephant\", \"monkey\", \"lion\", \"lion\", \"elephant\", \"monkey\", \"dolphin\", \"elephant\"]\n",
    "\n",
    "counter_dolphin = 0\n",
    "counter_elephant = 0\n",
    "counter_lion = 0\n",
    "counter_monkey = 0 \n",
    "\n",
    "for animal in animals:\n",
    "    if animal == \"dolphin\":\n",
    "        counter_dolphin += 1\n",
    "    if animal == \"elephant\":\n",
    "        counter_elephant += 1\n",
    "    if animal == \"lion\":\n",
    "        counter_lion += 1\n",
    "    else:\n",
    "        counter_monkey +=1\n",
    "\n",
    "print(f\"\"\"Dolphin appears {counter_dolphin}; \n",
    "Elephant appears {counter_elephant};\n",
    "Lion appears {counter_lion};\n",
    "Monkey appears {counter_monkey}\"\"\")"
   ]
  },
  {
   "cell_type": "code",
   "execution_count": null,
   "id": "89436423-01fb-4ac0-90a5-54fec66ad5a2",
   "metadata": {},
   "outputs": [],
   "source": []
  }
 ],
 "metadata": {
  "kernelspec": {
   "display_name": "Python 3 (ipykernel)",
   "language": "python",
   "name": "python3"
  },
  "language_info": {
   "codemirror_mode": {
    "name": "ipython",
    "version": 3
   },
   "file_extension": ".py",
   "mimetype": "text/x-python",
   "name": "python",
   "nbconvert_exporter": "python",
   "pygments_lexer": "ipython3",
   "version": "3.13.5"
  }
 },
 "nbformat": 4,
 "nbformat_minor": 5
}
