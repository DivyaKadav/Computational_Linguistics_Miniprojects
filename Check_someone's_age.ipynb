{
 "cells": [
  {
   "cell_type": "code",
   "execution_count": 4,
   "id": "e9ae837b-e314-4ed0-b17e-f90b2878d0c7",
   "metadata": {},
   "outputs": [
    {
     "name": "stdin",
     "output_type": "stream",
     "text": [
      "How old are you? 2\n",
      "Enter a number of years 20\n"
     ]
    },
    {
     "name": "stdout",
     "output_type": "stream",
     "text": [
      "In 20 years, you will be 22 and you will be an adult.\n"
     ]
    }
   ],
   "source": [
    "#Check if someone is an adult or he/she will be an adult in n years\n",
    "#1. Ask his/her age\n",
    "#2. Ask the period of time\n",
    "#3. Check if the age or the age plus the period of time is above 18\n",
    "#4. Print all options as in above cell\n",
    "\n",
    "age = int(input(\"How old are you?\"))\n",
    "                \n",
    "if age > 18:\n",
    "                print(f\"You are {age}. You are an adult now\")\n",
    "else: \n",
    "          timeperiod = int(input(\"Enter a number of years\"))\n",
    "          if age + timeperiod >18:\n",
    "              print(f\"In {timeperiod} years, you will be {age + timeperiod} and you will be an adult.\")\n",
    "          else:\n",
    "              print(f\"In {timeperiod} years, you will be {age + timeperiod} and you won't be an adult.\")\n",
    "              "
   ]
  },
  {
   "cell_type": "code",
   "execution_count": null,
   "id": "5d3dbebb-92d2-4c54-a155-a0af698b5f00",
   "metadata": {},
   "outputs": [],
   "source": []
  }
 ],
 "metadata": {
  "kernelspec": {
   "display_name": "Python 3 (ipykernel)",
   "language": "python",
   "name": "python3"
  },
  "language_info": {
   "codemirror_mode": {
    "name": "ipython",
    "version": 3
   },
   "file_extension": ".py",
   "mimetype": "text/x-python",
   "name": "python",
   "nbconvert_exporter": "python",
   "pygments_lexer": "ipython3",
   "version": "3.13.5"
  }
 },
 "nbformat": 4,
 "nbformat_minor": 5
}
