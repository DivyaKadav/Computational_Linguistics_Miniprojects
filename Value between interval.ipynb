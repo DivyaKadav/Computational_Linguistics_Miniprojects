{
 "cells": [
  {
   "cell_type": "code",
   "execution_count": null,
   "id": "52884c8a-d90e-4046-b7e0-339050f02dc4",
   "metadata": {},
   "outputs": [],
   "source": [
    "#Value between interval\n",
    "#Ask the user a number\n",
    "#If the value is between 0 and 5, including both of them, print \"Right value\"\n",
    "#If not, print \"Wrong value\""
   ]
  },
  {
   "cell_type": "code",
   "execution_count": 3,
   "id": "651f4805-43da-4478-bcbd-4960c0c8e64c",
   "metadata": {},
   "outputs": [
    {
     "name": "stdin",
     "output_type": "stream",
     "text": [
      "Inser a number:  -5\n"
     ]
    },
    {
     "name": "stdout",
     "output_type": "stream",
     "text": [
      "Right value\n"
     ]
    }
   ],
   "source": [
    "number = int(input(\"Inser a number: \"))\n",
    "\n",
    "if number <= 0 and number <= 5:\n",
    "    print(\"Right value\")\n",
    "else:\n",
    "     print(\"Wrong value\")"
   ]
  },
  {
   "cell_type": "code",
   "execution_count": null,
   "id": "5e25e954-4466-44f4-80fc-c8b827ff90a4",
   "metadata": {},
   "outputs": [],
   "source": []
  }
 ],
 "metadata": {
  "kernelspec": {
   "display_name": "Python 3 (ipykernel)",
   "language": "python",
   "name": "python3"
  },
  "language_info": {
   "codemirror_mode": {
    "name": "ipython",
    "version": 3
   },
   "file_extension": ".py",
   "mimetype": "text/x-python",
   "name": "python",
   "nbconvert_exporter": "python",
   "pygments_lexer": "ipython3",
   "version": "3.13.5"
  }
 },
 "nbformat": 4,
 "nbformat_minor": 5
}
