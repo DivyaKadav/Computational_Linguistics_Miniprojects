{
 "cells": [
  {
   "cell_type": "code",
   "execution_count": null,
   "id": "c89ddd59-0bd5-47dd-a8eb-ad16aab7a3e7",
   "metadata": {},
   "outputs": [],
   "source": [
    "#Library catalog\n",
    "#Ask a book's title\n",
    "#Ask a book's author\n",
    "#Assign an ID between 1000 and 1999\n",
    "#Ask the price (must be a float)\n",
    "#If the price is above 15, then shipping is free\n",
    "#If it doesn't, then the shipping costs 3\n",
    "#Generate automatically the total amount to pay"
   ]
  },
  {
   "cell_type": "code",
   "execution_count": 2,
   "id": "e98ca740-248e-44d6-bdc0-6a32d6237dcf",
   "metadata": {},
   "outputs": [
    {
     "name": "stdin",
     "output_type": "stream",
     "text": [
      "Book title:  roses\n",
      "Name of its author:  mark\n",
      "Assign an ID (between 1000 and 1999):  1323\n",
      "Price of the book:  12\n"
     ]
    },
    {
     "name": "stdout",
     "output_type": "stream",
     "text": [
      "Title: roses;\n",
      "Author: mark;\n",
      "ID: 1323;\n",
      "Total amount: 15.0\n",
      "\n"
     ]
    }
   ],
   "source": [
    "book_title = input(\"Book title: \")\n",
    "book_author = input(\"Name of its author: \")\n",
    "id_book = int(input(\"Assign an ID (between 1000 and 1999): \"))\n",
    "price = float(input(\"Price of the book: \"))\n",
    "\n",
    "if price > 15:\n",
    "    total_amount = price\n",
    "else:\n",
    "    price += 3\n",
    "    total_amount = price\n",
    "\n",
    "print(f\"\"\"Title: {book_title};\n",
    "Author: {book_author};\n",
    "ID: {id_book};\n",
    "Total amount: {total_amount}\n",
    "\"\"\")"
   ]
  },
  {
   "cell_type": "code",
   "execution_count": null,
   "id": "e556c40d-c6c8-4c10-a6ad-4b9cdbc489d7",
   "metadata": {},
   "outputs": [],
   "source": []
  }
 ],
 "metadata": {
  "kernelspec": {
   "display_name": "Python 3 (ipykernel)",
   "language": "python",
   "name": "python3"
  },
  "language_info": {
   "codemirror_mode": {
    "name": "ipython",
    "version": 3
   },
   "file_extension": ".py",
   "mimetype": "text/x-python",
   "name": "python",
   "nbconvert_exporter": "python",
   "pygments_lexer": "ipython3",
   "version": "3.13.5"
  }
 },
 "nbformat": 4,
 "nbformat_minor": 5
}
