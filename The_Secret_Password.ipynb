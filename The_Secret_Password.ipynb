{
 "cells": [
  {
   "cell_type": "code",
   "execution_count": null,
   "id": "8a3d6a1d-7746-4e90-83b8-bc199be33ac5",
   "metadata": {},
   "outputs": [],
   "source": [
    "#Exercise 2\n",
    "#The password\n",
    "\n",
    "#The secret password will be 1234. Ask the user a password and then check if that is the correct or wrong password. Let the user know.\n",
    "1. The correct password is 1234.\n",
    "2. Ask the user a password.\n",
    "3. If correct, print \"Correct\"\n",
    "4. If incorrect, print the mistaken password and \"Wrong Password\""
   ]
  },
  {
   "cell_type": "code",
   "execution_count": 2,
   "id": "d3e8744f-cb08-4f61-8d3d-f59c057c5159",
   "metadata": {},
   "outputs": [
    {
     "name": "stdin",
     "output_type": "stream",
     "text": [
      "Password:   12132312\n"
     ]
    },
    {
     "name": "stdout",
     "output_type": "stream",
     "text": [
      "Sorry, wrong password\n"
     ]
    }
   ],
   "source": [
    "password = 1234\n",
    "user_password = int(input(\"Password:  \"))\n",
    "if password == user_password:\n",
    "    print(\"correct password\")\n",
    "else:\n",
    "    print(\"Sorry, wrong password\")"
   ]
  },
  {
   "cell_type": "code",
   "execution_count": null,
   "id": "a6330b83-ca17-4989-ad15-cb256ba6a379",
   "metadata": {},
   "outputs": [],
   "source": []
  }
 ],
 "metadata": {
  "kernelspec": {
   "display_name": "Python 3 (ipykernel)",
   "language": "python",
   "name": "python3"
  },
  "language_info": {
   "codemirror_mode": {
    "name": "ipython",
    "version": 3
   },
   "file_extension": ".py",
   "mimetype": "text/x-python",
   "name": "python",
   "nbconvert_exporter": "python",
   "pygments_lexer": "ipython3",
   "version": "3.13.5"
  }
 },
 "nbformat": 4,
 "nbformat_minor": 5
}
