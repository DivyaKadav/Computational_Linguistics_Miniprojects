{
 "cells": [
  {
   "cell_type": "code",
   "execution_count": null,
   "id": "b00b0661-f80e-4bd7-a40e-2fe4d76b0bc3",
   "metadata": {},
   "outputs": [],
   "source": [
    "#Even or odd Exercise\n",
    "#Ask the user to input a number\n",
    "#If odd, print the number plus \"is odd\"\n",
    "#If even, print the number plus \"is even\""
   ]
  },
  {
   "cell_type": "code",
   "execution_count": 1,
   "id": "9ef1752e-df57-411d-ab59-547cf6afffc9",
   "metadata": {},
   "outputs": [
    {
     "name": "stdin",
     "output_type": "stream",
     "text": [
      "Insert a number:  123124124121\n"
     ]
    },
    {
     "name": "stdout",
     "output_type": "stream",
     "text": [
      "123124124121 is odd\n"
     ]
    }
   ],
   "source": [
    "number = int(input(\"Insert a number: \"))\n",
    "\n",
    "if number % 2 == 0:\n",
    "    print(f\"{number} is even\")\n",
    "else:\n",
    "    print(f\"{number} is odd\")\n",
    "    "
   ]
  },
  {
   "cell_type": "code",
   "execution_count": null,
   "id": "68da89ca-c77d-4fc4-8e81-2266cd6fb636",
   "metadata": {},
   "outputs": [],
   "source": []
  }
 ],
 "metadata": {
  "kernelspec": {
   "display_name": "Python 3 (ipykernel)",
   "language": "python",
   "name": "python3"
  },
  "language_info": {
   "codemirror_mode": {
    "name": "ipython",
    "version": 3
   },
   "file_extension": ".py",
   "mimetype": "text/x-python",
   "name": "python",
   "nbconvert_exporter": "python",
   "pygments_lexer": "ipython3",
   "version": "3.13.5"
  }
 },
 "nbformat": 4,
 "nbformat_minor": 5
}
